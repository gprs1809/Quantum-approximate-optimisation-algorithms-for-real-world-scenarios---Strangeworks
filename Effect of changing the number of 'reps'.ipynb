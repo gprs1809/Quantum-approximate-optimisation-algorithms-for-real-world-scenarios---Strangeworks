{
 "cells": [
  {
   "cell_type": "markdown",
   "id": "61ec5779",
   "metadata": {},
   "source": [
    "## Effect of changing the number of 'reps'\n",
    "\n",
    "### Aim: To investigate the situation where we increase the number of 'reps' for different alpha values.\n",
    "\n",
    "'reps' refers to the number of times we repeat the ansatz. In Qiskit 'reps' is set to 1 by default.In this notebook, we will work with the 10 asset scenario using the qasm_simulator. \n",
    "\n",
    "Here we increase reps to 2.\n",
    "\n",
    "\n",
    "\n",
    "### Expected Result:\n",
    "\n",
    "Better approximation of optimal functional value."
   ]
  },
  {
   "cell_type": "code",
   "execution_count": 1,
   "id": "82c3252c",
   "metadata": {},
   "outputs": [],
   "source": [
    "#importing all the necessary packages\n",
    "from qiskit.algorithms.optimizers import COBYLA,CG,POWELL, GradientDescent\n",
    "from qiskit.algorithms import NumPyMinimumEigensolver, VQE,QAOA\n",
    "from qiskit.opflow import PauliExpectation, CVaRExpectation\n",
    "from qiskit_optimization import QuadraticProgram\n",
    "from qiskit_optimization.converters import LinearEqualityToPenalty\n",
    "from qiskit_optimization.algorithms import MinimumEigenOptimizer\n",
    "from qiskit_optimization.translators import from_docplex_mp\n",
    "from qiskit import execute, Aer\n",
    "from qiskit.utils import algorithm_globals\n",
    "\n",
    "import numpy as np\n",
    "import matplotlib.pyplot as plt\n",
    "from docplex.mp.model import Model"
   ]
  },
  {
   "cell_type": "code",
   "execution_count": 2,
   "id": "d61b3f54",
   "metadata": {},
   "outputs": [],
   "source": [
    "#maruti,ongc,tatasteel,hindalco,icici,britannia,ultra,wipro,apollo,jublfoods\n",
    "mu10 = np.array([-0.01278393459,-0.01757157357,0.00153724791,-0.015034464,-0.015034464,-0.01387133952,-0.01447346195,\n",
    "                -0.01674339724,-0.0132387857,-0.01195091376])\n",
    "\n",
    "sigma10 = np.array(\n",
    "    [\n",
    "        [0.0157149876, 0.01543639416,0.01557457106, 0.01548754824, 0.01551981118,0.01552742087,0.01551068247,0.01549833146,0.01555422578,0.01560541445],\n",
    "        [0.01543639416,0.01626383626, 0.01518401219, 0.01572622731, 0.01547586679, 0.01523653022,0.01540274745,0.01539792764,0.01529484431,0.01522477939],\n",
    "        [0.01557457106, 0.01518401219, 0.03221621237,0.01521450154, 0.01560453568, 0.01568907088,0.01536051938,0.01517390478,0.01544208176,0.01533647982],\n",
    "        [0.01548754824, 0.01572622731,0.01521450154, 0.01609035237, 0.01563323403, 0.01546962982,0.01556278296,0.01563908817,0.01556359729,0.01560570359],\n",
    "        [0.01551981118, 0.01547586679,0.01560453568, 0.01563323403, 0.01566618101, 0.01551780546,0.01554861694,0.01554772412,0.01554744909,0.01561664097],\n",
    "        [0.01552742087,0.01523653022, 0.01568907088, 0.01546962982, 0.01551780546, 0.0156690731,0.01550048831,0.01547100286,0.01552910437,0.0155765202],\n",
    "        [0.01551068247,0.01540274745,0.01536051938,0.01556278296,0.01554861694,0.01550048831,0.01570878379,0.01551585945,0.01551281895,0.01563468601],\n",
    "        [0.01549833146,0.01539792764,0.01517390478,0.01563908817,0.01554772412,0.01547100286,0.01551585945,0.01568793576,0.0155514752,0.01569287103],\n",
    "        [0.01555422578,0.01529484431,0.01544208176,0.01556359729,0.01554744909,0.01552910437,0.01551281895,0.0155514752,0.0157783728,0.01565209048],\n",
    "        [0.01560541445,0.01522477939,0.01533647982,0.01560570359,0.01561664097,0.0155765202,0.01563468601,0.01569287103,0.01565209048,0.0161425637]\n",
    "    ]\n",
    ")"
   ]
  },
  {
   "cell_type": "code",
   "execution_count": 3,
   "id": "78198950",
   "metadata": {},
   "outputs": [],
   "source": [
    "# prepare problem instance\n",
    "n = 10  # number of assets\n",
    "q = 0.5  # risk factor\n",
    "budget = n // 2  # budget\n",
    "penalty = 2 * n  # scaling of penalty term"
   ]
  },
  {
   "cell_type": "code",
   "execution_count": 4,
   "id": "7735b18b",
   "metadata": {},
   "outputs": [],
   "source": [
    "#Using cobyla optimizer and qasm simulator. We are using CVaR expectation and hence, created a list of alpha values\n",
    "\n",
    "# set classical optimizer\n",
    "maxiter = 100\n",
    "optimizer = COBYLA(maxiter=maxiter)\n",
    "\n",
    "# set variational ansatz\n",
    "#ansatz = RealAmplitudes(n, reps=2)\n",
    "#m = ansatz.num_parameters\n",
    "\n",
    "# set backend\n",
    "backend_name = \"qasm_simulator\"  # use this for QASM simulator\n",
    "# backend_name = 'aer_simulator_statevector'  # use this for statevector simlator\n",
    "backend = Aer.get_backend(backend_name)\n",
    "\n",
    "# run variational optimization for different values of alpha\n",
    "alphas = [1.0, 0.50, 0.25,0.30,0.40,0.45]  # confidence levels to be evaluated"
   ]
  },
  {
   "cell_type": "code",
   "execution_count": 6,
   "id": "44c40d18",
   "metadata": {},
   "outputs": [],
   "source": [
    "# create docplex model\n",
    "mdl = Model(\"portfolio_optimization\")\n",
    "x = mdl.binary_var_list(range(n), name=\"x\")\n",
    "objective = mdl.sum([mu10[i] * x[i] for i in range(n)])\n",
    "objective -= q * mdl.sum([sigma10[i, j] * x[i] * x[j] for i in range(n) for j in range(n)])\n",
    "mdl.maximize(objective)\n",
    "mdl.add_constraint(mdl.sum(x[i] for i in range(n)) == budget)\n",
    "\n",
    "# case to\n",
    "qp = from_docplex_mp(mdl)"
   ]
  },
  {
   "cell_type": "code",
   "execution_count": 7,
   "id": "2834c493",
   "metadata": {},
   "outputs": [],
   "source": [
    "linear2penalty = LinearEqualityToPenalty(penalty=penalty)\n",
    "qp = linear2penalty.convert(qp)\n",
    "operator , offset = qp.to_ising()"
   ]
  },
  {
   "cell_type": "code",
   "execution_count": 8,
   "id": "846560b9",
   "metadata": {},
   "outputs": [
    {
     "name": "stdout",
     "output_type": "stream",
     "text": [
      "alpha = 1.0:\n",
      "objective function value: -0.25355531011501853\n",
      "variable values: x_0=1.0, x_1=0.0, x_2=1.0, x_3=0.0, x_4=0.0, x_5=1.0, x_6=0.0, x_7=0.0, x_8=1.0, x_9=1.0\n",
      "status: SUCCESS\n",
      "\n",
      "alpha = 0.5:\n",
      "objective function value: -0.25355531011501853\n",
      "variable values: x_0=1.0, x_1=0.0, x_2=1.0, x_3=0.0, x_4=0.0, x_5=1.0, x_6=0.0, x_7=0.0, x_8=1.0, x_9=1.0\n",
      "status: SUCCESS\n",
      "\n",
      "alpha = 0.25:\n",
      "objective function value: -0.25355531011501853\n",
      "variable values: x_0=1.0, x_1=0.0, x_2=1.0, x_3=0.0, x_4=0.0, x_5=1.0, x_6=0.0, x_7=0.0, x_8=1.0, x_9=1.0\n",
      "status: SUCCESS\n",
      "\n",
      "alpha = 0.3:\n",
      "objective function value: -0.25355531011501853\n",
      "variable values: x_0=1.0, x_1=0.0, x_2=1.0, x_3=0.0, x_4=0.0, x_5=1.0, x_6=0.0, x_7=0.0, x_8=1.0, x_9=1.0\n",
      "status: SUCCESS\n",
      "\n",
      "alpha = 0.4:\n",
      "objective function value: -0.25355531011501853\n",
      "variable values: x_0=1.0, x_1=0.0, x_2=1.0, x_3=0.0, x_4=0.0, x_5=1.0, x_6=0.0, x_7=0.0, x_8=1.0, x_9=1.0\n",
      "status: SUCCESS\n",
      "\n",
      "alpha = 0.45:\n",
      "objective function value: -0.25355531011501853\n",
      "variable values: x_0=1.0, x_1=0.0, x_2=1.0, x_3=0.0, x_4=0.0, x_5=1.0, x_6=0.0, x_7=0.0, x_8=1.0, x_9=1.0\n",
      "status: SUCCESS\n",
      "\n",
      "CPU times: total: 6min 16s\n",
      "Wall time: 6min 55s\n"
     ]
    }
   ],
   "source": [
    "%%time\n",
    "# dictionaries to store optimization progress and results\n",
    "objectives = {alpha: [] for alpha in alphas}  # set of tested objective functions w.r.t. alpha\n",
    "results = {}  # results of minimum eigensolver w.r.t alpha\n",
    "\n",
    "# callback to store intermediate results\n",
    "def callback(i, params, obj, stddev, alpha):\n",
    "    # we translate the objective from the internal Ising representation\n",
    "    # to the original optimization problem\n",
    "    objectives[alpha] += [-(obj + offset)]\n",
    "\n",
    "\n",
    "# loop over all given alpha values\n",
    "for alpha in alphas:\n",
    "\n",
    "    # initialize CVaR_alpha objective\n",
    "    cvar_exp = CVaRExpectation(alpha, PauliExpectation())\n",
    "#     cvar_exp.compute_variance = lambda x: [0]  # to be fixed in PR #1373\n",
    "\n",
    "    # initialize VQE using CVaR ###2 reps\n",
    "    qaoa = QAOA(\n",
    "        reps = 2,\n",
    "        expectation=cvar_exp,\n",
    "        optimizer=optimizer,\n",
    "        quantum_instance=backend,\n",
    "        callback=lambda i, params, obj, stddev: callback(i, params, obj, stddev, alpha),\n",
    "    )\n",
    "\n",
    "    # initialize optimization algorithm based on CVaR-VQE\n",
    "    opt_alg = MinimumEigenOptimizer(qaoa)\n",
    "\n",
    "    # solve problem\n",
    "    results[alpha] = opt_alg.solve(qp)\n",
    "\n",
    "    # print results\n",
    "    print(\"alpha = {}:\".format(alpha))\n",
    "    print(results[alpha].prettyprint())\n",
    "    print()  "
   ]
  },
  {
   "cell_type": "markdown",
   "id": "d7c7ce84",
   "metadata": {},
   "source": [
    "### Conclusion:\n",
    "\n",
    "1. In this case, for different alphas the optimal functional value remains the same. Hence, for this case we arrive at the       correct result with one repetition (reps = 1), thus saving us time and cost.\n",
    "\n",
    "\n",
    "\n",
    "2. For this case with just 10 assets,we used qasm_simulator and COBYLA optimizer. Using different backends and classical optimizers would have not provided us with significantly better approximation for the optimal functional value than current backend-optimizer combination, thus we have opted against using other backend-optimizer combinations."
   ]
  },
  {
   "cell_type": "code",
   "execution_count": null,
   "id": "68d511ad",
   "metadata": {},
   "outputs": [],
   "source": []
  }
 ],
 "metadata": {
  "kernelspec": {
   "display_name": "Python (Qiskitenv)",
   "language": "python",
   "name": "qiskitenv"
  },
  "language_info": {
   "codemirror_mode": {
    "name": "ipython",
    "version": 3
   },
   "file_extension": ".py",
   "mimetype": "text/x-python",
   "name": "python",
   "nbconvert_exporter": "python",
   "pygments_lexer": "ipython3",
   "version": "3.9.12"
  }
 },
 "nbformat": 4,
 "nbformat_minor": 5
}
